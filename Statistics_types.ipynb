{
 "cells": [
  {
   "cell_type": "code",
   "execution_count": 4,
   "id": "f95b7fad",
   "metadata": {},
   "outputs": [],
   "source": [
    "import pandas as pd\n",
    "import math"
   ]
  },
  {
   "cell_type": "code",
   "execution_count": 13,
   "id": "e017d92f",
   "metadata": {},
   "outputs": [
    {
     "data": {
      "text/html": [
       "<div>\n",
       "<style scoped>\n",
       "    .dataframe tbody tr th:only-of-type {\n",
       "        vertical-align: middle;\n",
       "    }\n",
       "\n",
       "    .dataframe tbody tr th {\n",
       "        vertical-align: top;\n",
       "    }\n",
       "\n",
       "    .dataframe thead th {\n",
       "        text-align: right;\n",
       "    }\n",
       "</style>\n",
       "<table border=\"1\" class=\"dataframe\">\n",
       "  <thead>\n",
       "    <tr style=\"text-align: right;\">\n",
       "      <th></th>\n",
       "      <th>age</th>\n",
       "      <th>gender</th>\n",
       "      <th>height_cm</th>\n",
       "      <th>weight_kg</th>\n",
       "      <th>body fat_%</th>\n",
       "      <th>diastolic</th>\n",
       "      <th>systolic</th>\n",
       "      <th>gripForce</th>\n",
       "      <th>sit and bend forward_cm</th>\n",
       "      <th>sit-ups counts</th>\n",
       "      <th>broad jump_cm</th>\n",
       "      <th>class</th>\n",
       "    </tr>\n",
       "  </thead>\n",
       "  <tbody>\n",
       "    <tr>\n",
       "      <th>0</th>\n",
       "      <td>27.0</td>\n",
       "      <td>M</td>\n",
       "      <td>172.3</td>\n",
       "      <td>75.24</td>\n",
       "      <td>21.3</td>\n",
       "      <td>80.0</td>\n",
       "      <td>130.0</td>\n",
       "      <td>54.9</td>\n",
       "      <td>18.4</td>\n",
       "      <td>60.0</td>\n",
       "      <td>217.0</td>\n",
       "      <td>C</td>\n",
       "    </tr>\n",
       "    <tr>\n",
       "      <th>1</th>\n",
       "      <td>25.0</td>\n",
       "      <td>M</td>\n",
       "      <td>165.0</td>\n",
       "      <td>55.80</td>\n",
       "      <td>15.7</td>\n",
       "      <td>77.0</td>\n",
       "      <td>126.0</td>\n",
       "      <td>36.4</td>\n",
       "      <td>16.3</td>\n",
       "      <td>53.0</td>\n",
       "      <td>229.0</td>\n",
       "      <td>A</td>\n",
       "    </tr>\n",
       "    <tr>\n",
       "      <th>2</th>\n",
       "      <td>31.0</td>\n",
       "      <td>M</td>\n",
       "      <td>179.6</td>\n",
       "      <td>78.00</td>\n",
       "      <td>20.1</td>\n",
       "      <td>92.0</td>\n",
       "      <td>152.0</td>\n",
       "      <td>44.8</td>\n",
       "      <td>12.0</td>\n",
       "      <td>49.0</td>\n",
       "      <td>181.0</td>\n",
       "      <td>C</td>\n",
       "    </tr>\n",
       "    <tr>\n",
       "      <th>3</th>\n",
       "      <td>32.0</td>\n",
       "      <td>M</td>\n",
       "      <td>174.5</td>\n",
       "      <td>71.10</td>\n",
       "      <td>18.4</td>\n",
       "      <td>76.0</td>\n",
       "      <td>147.0</td>\n",
       "      <td>41.4</td>\n",
       "      <td>15.2</td>\n",
       "      <td>53.0</td>\n",
       "      <td>219.0</td>\n",
       "      <td>B</td>\n",
       "    </tr>\n",
       "    <tr>\n",
       "      <th>4</th>\n",
       "      <td>28.0</td>\n",
       "      <td>M</td>\n",
       "      <td>173.8</td>\n",
       "      <td>67.70</td>\n",
       "      <td>17.1</td>\n",
       "      <td>70.0</td>\n",
       "      <td>127.0</td>\n",
       "      <td>43.5</td>\n",
       "      <td>27.1</td>\n",
       "      <td>45.0</td>\n",
       "      <td>217.0</td>\n",
       "      <td>B</td>\n",
       "    </tr>\n",
       "  </tbody>\n",
       "</table>\n",
       "</div>"
      ],
      "text/plain": [
       "    age gender  height_cm  weight_kg  body fat_%  diastolic  systolic  \\\n",
       "0  27.0      M      172.3      75.24        21.3       80.0     130.0   \n",
       "1  25.0      M      165.0      55.80        15.7       77.0     126.0   \n",
       "2  31.0      M      179.6      78.00        20.1       92.0     152.0   \n",
       "3  32.0      M      174.5      71.10        18.4       76.0     147.0   \n",
       "4  28.0      M      173.8      67.70        17.1       70.0     127.0   \n",
       "\n",
       "   gripForce  sit and bend forward_cm  sit-ups counts  broad jump_cm class  \n",
       "0       54.9                     18.4            60.0          217.0     C  \n",
       "1       36.4                     16.3            53.0          229.0     A  \n",
       "2       44.8                     12.0            49.0          181.0     C  \n",
       "3       41.4                     15.2            53.0          219.0     B  \n",
       "4       43.5                     27.1            45.0          217.0     B  "
      ]
     },
     "execution_count": 13,
     "metadata": {},
     "output_type": "execute_result"
    }
   ],
   "source": [
    "df = pd.read_csv('bodyPerformance.csv')\n",
    "df.head()"
   ]
  },
  {
   "cell_type": "code",
   "execution_count": 14,
   "id": "a559d1b5",
   "metadata": {},
   "outputs": [
    {
     "data": {
      "text/plain": [
       "(13393, 12)"
      ]
     },
     "execution_count": 14,
     "metadata": {},
     "output_type": "execute_result"
    }
   ],
   "source": [
    "df.shape"
   ]
  },
  {
   "cell_type": "code",
   "execution_count": 20,
   "id": "c9403842",
   "metadata": {},
   "outputs": [
    {
     "data": {
      "text/html": [
       "<div>\n",
       "<style scoped>\n",
       "    .dataframe tbody tr th:only-of-type {\n",
       "        vertical-align: middle;\n",
       "    }\n",
       "\n",
       "    .dataframe tbody tr th {\n",
       "        vertical-align: top;\n",
       "    }\n",
       "\n",
       "    .dataframe thead th {\n",
       "        text-align: right;\n",
       "    }\n",
       "</style>\n",
       "<table border=\"1\" class=\"dataframe\">\n",
       "  <thead>\n",
       "    <tr style=\"text-align: right;\">\n",
       "      <th></th>\n",
       "      <th>age</th>\n",
       "      <th>height_cm</th>\n",
       "      <th>weight_kg</th>\n",
       "      <th>body fat_%</th>\n",
       "      <th>diastolic</th>\n",
       "      <th>systolic</th>\n",
       "      <th>gripForce</th>\n",
       "      <th>sit and bend forward_cm</th>\n",
       "      <th>sit-ups counts</th>\n",
       "      <th>broad jump_cm</th>\n",
       "    </tr>\n",
       "  </thead>\n",
       "  <tbody>\n",
       "    <tr>\n",
       "      <th>0</th>\n",
       "      <td>27.0</td>\n",
       "      <td>172.3</td>\n",
       "      <td>75.24</td>\n",
       "      <td>21.3</td>\n",
       "      <td>80.0</td>\n",
       "      <td>130.0</td>\n",
       "      <td>54.9</td>\n",
       "      <td>18.4</td>\n",
       "      <td>60.0</td>\n",
       "      <td>217.0</td>\n",
       "    </tr>\n",
       "    <tr>\n",
       "      <th>1</th>\n",
       "      <td>25.0</td>\n",
       "      <td>165.0</td>\n",
       "      <td>55.80</td>\n",
       "      <td>15.7</td>\n",
       "      <td>77.0</td>\n",
       "      <td>126.0</td>\n",
       "      <td>36.4</td>\n",
       "      <td>16.3</td>\n",
       "      <td>53.0</td>\n",
       "      <td>229.0</td>\n",
       "    </tr>\n",
       "  </tbody>\n",
       "</table>\n",
       "</div>"
      ],
      "text/plain": [
       "    age  height_cm  weight_kg  body fat_%  diastolic  systolic  gripForce  \\\n",
       "0  27.0      172.3      75.24        21.3       80.0     130.0       54.9   \n",
       "1  25.0      165.0      55.80        15.7       77.0     126.0       36.4   \n",
       "\n",
       "   sit and bend forward_cm  sit-ups counts  broad jump_cm  \n",
       "0                     18.4            60.0          217.0  \n",
       "1                     16.3            53.0          229.0  "
      ]
     },
     "execution_count": 20,
     "metadata": {},
     "output_type": "execute_result"
    }
   ],
   "source": [
    "numeric_data = df.select_dtypes(exclude='object')\n",
    "numeric_data.head(2)"
   ]
  },
  {
   "cell_type": "code",
   "execution_count": 19,
   "id": "6992892a",
   "metadata": {},
   "outputs": [
    {
     "data": {
      "text/html": [
       "<div>\n",
       "<style scoped>\n",
       "    .dataframe tbody tr th:only-of-type {\n",
       "        vertical-align: middle;\n",
       "    }\n",
       "\n",
       "    .dataframe tbody tr th {\n",
       "        vertical-align: top;\n",
       "    }\n",
       "\n",
       "    .dataframe thead th {\n",
       "        text-align: right;\n",
       "    }\n",
       "</style>\n",
       "<table border=\"1\" class=\"dataframe\">\n",
       "  <thead>\n",
       "    <tr style=\"text-align: right;\">\n",
       "      <th></th>\n",
       "      <th>gender</th>\n",
       "      <th>class</th>\n",
       "    </tr>\n",
       "  </thead>\n",
       "  <tbody>\n",
       "    <tr>\n",
       "      <th>0</th>\n",
       "      <td>M</td>\n",
       "      <td>C</td>\n",
       "    </tr>\n",
       "    <tr>\n",
       "      <th>1</th>\n",
       "      <td>M</td>\n",
       "      <td>A</td>\n",
       "    </tr>\n",
       "  </tbody>\n",
       "</table>\n",
       "</div>"
      ],
      "text/plain": [
       "  gender class\n",
       "0      M     C\n",
       "1      M     A"
      ]
     },
     "execution_count": 19,
     "metadata": {},
     "output_type": "execute_result"
    }
   ],
   "source": [
    "categorical_data = df.select_dtypes(include='object')\n",
    "categorical_data.head(2)"
   ]
  },
  {
   "cell_type": "code",
   "execution_count": 21,
   "id": "3e11a8d7",
   "metadata": {},
   "outputs": [
    {
     "data": {
      "text/plain": [
       "age                         36.775106\n",
       "height_cm                  168.559807\n",
       "weight_kg                   67.447316\n",
       "body fat_%                  23.240165\n",
       "diastolic                   78.796842\n",
       "systolic                   130.234817\n",
       "gripForce                   36.963877\n",
       "sit and bend forward_cm     15.209268\n",
       "sit-ups counts              39.771224\n",
       "broad jump_cm              190.129627\n",
       "dtype: float64"
      ]
     },
     "execution_count": 21,
     "metadata": {},
     "output_type": "execute_result"
    }
   ],
   "source": [
    "# Measure of Central Tendency\n",
    "# Mean\n",
    "df.mean()"
   ]
  },
  {
   "cell_type": "code",
   "execution_count": 22,
   "id": "b1f6a683",
   "metadata": {},
   "outputs": [
    {
     "data": {
      "text/plain": [
       "23.240164950869843"
      ]
     },
     "execution_count": 22,
     "metadata": {},
     "output_type": "execute_result"
    }
   ],
   "source": [
    "# Mean of individual column of dataframe\n",
    "df['body fat_%'].mean()"
   ]
  },
  {
   "cell_type": "code",
   "execution_count": 23,
   "id": "dfcdb0e2",
   "metadata": {},
   "outputs": [
    {
     "data": {
      "text/plain": [
       "22.053450257160534"
      ]
     },
     "execution_count": 23,
     "metadata": {},
     "output_type": "execute_result"
    }
   ],
   "source": [
    "from scipy.stats import gmean\n",
    "# geometric mean - square root of multiplication of all the values\n",
    "gmean(df['body fat_%'])"
   ]
  },
  {
   "cell_type": "code",
   "execution_count": 25,
   "id": "eebcd65e",
   "metadata": {},
   "outputs": [
    {
     "data": {
      "text/plain": [
       "20.766092233445065"
      ]
     },
     "execution_count": 25,
     "metadata": {},
     "output_type": "execute_result"
    }
   ],
   "source": [
    "# the harmonic mean - In general, it is used when there is a necessity to give greater weight to the smaller items.\n",
    "# It is applied in the case of times and average rates\n",
    "import statistics\n",
    "statistics.harmonic_mean(df['body fat_%'])"
   ]
  },
  {
   "cell_type": "code",
   "execution_count": 26,
   "id": "f856867c",
   "metadata": {},
   "outputs": [
    {
     "data": {
      "text/html": [
       "<div>\n",
       "<style scoped>\n",
       "    .dataframe tbody tr th:only-of-type {\n",
       "        vertical-align: middle;\n",
       "    }\n",
       "\n",
       "    .dataframe tbody tr th {\n",
       "        vertical-align: top;\n",
       "    }\n",
       "\n",
       "    .dataframe thead th {\n",
       "        text-align: right;\n",
       "    }\n",
       "</style>\n",
       "<table border=\"1\" class=\"dataframe\">\n",
       "  <thead>\n",
       "    <tr style=\"text-align: right;\">\n",
       "      <th></th>\n",
       "      <th>age</th>\n",
       "      <th>gender</th>\n",
       "      <th>height_cm</th>\n",
       "      <th>weight_kg</th>\n",
       "      <th>body fat_%</th>\n",
       "      <th>diastolic</th>\n",
       "      <th>systolic</th>\n",
       "      <th>gripForce</th>\n",
       "      <th>sit and bend forward_cm</th>\n",
       "      <th>sit-ups counts</th>\n",
       "      <th>broad jump_cm</th>\n",
       "      <th>class</th>\n",
       "    </tr>\n",
       "  </thead>\n",
       "  <tbody>\n",
       "    <tr>\n",
       "      <th>0</th>\n",
       "      <td>21.0</td>\n",
       "      <td>M</td>\n",
       "      <td>170.0</td>\n",
       "      <td>70.5</td>\n",
       "      <td>23.1</td>\n",
       "      <td>80.0</td>\n",
       "      <td>120.0</td>\n",
       "      <td>43.1</td>\n",
       "      <td>20.0</td>\n",
       "      <td>45.0</td>\n",
       "      <td>211.0</td>\n",
       "      <td>C</td>\n",
       "    </tr>\n",
       "    <tr>\n",
       "      <th>1</th>\n",
       "      <td>NaN</td>\n",
       "      <td>NaN</td>\n",
       "      <td>NaN</td>\n",
       "      <td>NaN</td>\n",
       "      <td>NaN</td>\n",
       "      <td>NaN</td>\n",
       "      <td>NaN</td>\n",
       "      <td>NaN</td>\n",
       "      <td>NaN</td>\n",
       "      <td>NaN</td>\n",
       "      <td>NaN</td>\n",
       "      <td>D</td>\n",
       "    </tr>\n",
       "  </tbody>\n",
       "</table>\n",
       "</div>"
      ],
      "text/plain": [
       "    age gender  height_cm  weight_kg  body fat_%  diastolic  systolic  \\\n",
       "0  21.0      M      170.0       70.5        23.1       80.0     120.0   \n",
       "1   NaN    NaN        NaN        NaN         NaN        NaN       NaN   \n",
       "\n",
       "   gripForce  sit and bend forward_cm  sit-ups counts  broad jump_cm class  \n",
       "0       43.1                     20.0            45.0          211.0     C  \n",
       "1        NaN                      NaN             NaN            NaN     D  "
      ]
     },
     "execution_count": 26,
     "metadata": {},
     "output_type": "execute_result"
    }
   ],
   "source": [
    "# maximum time repeated value\n",
    "df.mode() "
   ]
  },
  {
   "cell_type": "code",
   "execution_count": 27,
   "id": "e612aa8d",
   "metadata": {},
   "outputs": [
    {
     "data": {
      "text/plain": [
       "22.8"
      ]
     },
     "execution_count": 27,
     "metadata": {},
     "output_type": "execute_result"
    }
   ],
   "source": [
    "# Median is the 50%th percentile of the data. It is exactly the center point of the data.\n",
    "# Median represents the middle value for any group. It is the point at which half the data is more and \n",
    "# half the data is less. - - Median helps to represent a large number of data points with a single data point\n",
    "statistics.median(df['body fat_%'])"
   ]
  },
  {
   "cell_type": "code",
   "execution_count": 28,
   "id": "232ac286",
   "metadata": {},
   "outputs": [
    {
     "data": {
      "text/plain": [
       "52.66178600041373"
      ]
     },
     "execution_count": 28,
     "metadata": {},
     "output_type": "execute_result"
    }
   ],
   "source": [
    "# VARIANCE\n",
    "# In statistics, the variance is a measure of how far individual (numeric) values in a dataset are from the mean or average value.\n",
    "# The variance is often used to quantify spread or dispersion. Spread is a characteristic of a sample or population that describes how much variability there is in it.\n",
    "# A high variance tells us that the values in our dataset are far from their mean. So, our data will have high levels of variability.\n",
    "# On the other hand, a low variance tells us that the values are quite close to the mean. In this case, the data will have low levels of variability.\n",
    "\n",
    "statistics.variance(df['body fat_%'])"
   ]
  },
  {
   "cell_type": "code",
   "execution_count": 29,
   "id": "5eeb55fc",
   "metadata": {},
   "outputs": [
    {
     "data": {
      "text/plain": [
       "71.00729348140638"
      ]
     },
     "execution_count": 29,
     "metadata": {},
     "output_type": "execute_result"
    }
   ],
   "source": [
    "statistics.variance(df['height_cm'])"
   ]
  },
  {
   "cell_type": "code",
   "execution_count": 30,
   "id": "9866206f",
   "metadata": {},
   "outputs": [
    {
     "data": {
      "text/plain": [
       "7.256844079929906"
      ]
     },
     "execution_count": 30,
     "metadata": {},
     "output_type": "execute_result"
    }
   ],
   "source": [
    "# standard deviation\n",
    "statistics.stdev(df['body fat_%'])"
   ]
  },
  {
   "cell_type": "raw",
   "id": "0ede633d",
   "metadata": {},
   "source": [
    "# Variance is a method to find or obtain the measure between the variables that how are they different from one another,\n",
    "# whereas standard deviation shows us how the data set or the variables differ from the mean or the average value\n",
    "# from the data set.\n",
    "\n",
    "# Variance helps to find the distribution of data in a population from a mean, and standard deviation also helps to\n",
    "# know the distribution of data in population, but standard deviation gives more clarity about the deviation of \n",
    "# data from a mean."
   ]
  },
  {
   "cell_type": "code",
   "execution_count": 31,
   "id": "efd879a6",
   "metadata": {},
   "outputs": [
    {
     "data": {
      "text/plain": [
       "age                        0.599896\n",
       "height_cm                 -0.186882\n",
       "weight_kg                  0.349805\n",
       "body fat_%                 0.361132\n",
       "diastolic                 -0.159637\n",
       "systolic                  -0.048654\n",
       "gripForce                  0.018456\n",
       "sit and bend forward_cm    0.785492\n",
       "sit-ups counts            -0.467830\n",
       "broad jump_cm             -0.422623\n",
       "dtype: float64"
      ]
     },
     "execution_count": 31,
     "metadata": {},
     "output_type": "execute_result"
    }
   ],
   "source": [
    "# shape of data - how data is distributed horizontally\n",
    "df.skew()"
   ]
  },
  {
   "cell_type": "code",
   "execution_count": 32,
   "id": "42475fea",
   "metadata": {},
   "outputs": [
    {
     "data": {
      "text/plain": [
       "<matplotlib.axes._subplots.AxesSubplot at 0x7fdf8fc10550>"
      ]
     },
     "execution_count": 32,
     "metadata": {},
     "output_type": "execute_result"
    },
    {
     "data": {
      "image/png": "[encoded data removed]",
      "text/plain": [
       "<Figure size 432x288 with 1 Axes>"
      ]
     },
     "metadata": {
      "needs_background": "light"
     },
     "output_type": "display_data"
    }
   ],
   "source": [
    "#Example of positive skewness\n",
    "df['age'].plot(kind = 'density')"
   ]
  },
  {
   "cell_type": "code",
   "execution_count": 33,
   "id": "0c74d4cb",
   "metadata": {},
   "outputs": [
    {
     "data": {
      "text/plain": [
       "<matplotlib.axes._subplots.AxesSubplot at 0x7fdf9025f490>"
      ]
     },
     "execution_count": 33,
     "metadata": {},
     "output_type": "execute_result"
    },
    {
     "data": {
      "image/png": "[encoded data removed]",
      "text/plain": [
       "<Figure size 432x288 with 1 Axes>"
      ]
     },
     "metadata": {
      "needs_background": "light"
     },
     "output_type": "display_data"
    }
   ],
   "source": [
    "#Example of negative skewness\n",
    "df['sit-ups counts'].plot(kind = 'density')"
   ]
  },
  {
   "cell_type": "code",
   "execution_count": 35,
   "id": "a55c1d1a",
   "metadata": {},
   "outputs": [
    {
     "name": "stderr",
     "output_type": "stream",
     "text": [
      "/Users/GA20232204/opt/anaconda3/lib/python3.7/site-packages/seaborn/distributions.py:2557: FutureWarning: `distplot` is a deprecated function and will be removed in a future version. Please adapt your code to use either `displot` (a figure-level function with similar flexibility) or `histplot` (an axes-level function for histograms).\n",
      "  warnings.warn(msg, FutureWarning)\n",
      "/Users/GA20232204/opt/anaconda3/lib/python3.7/site-packages/matplotlib/cbook/__init__.py:1402: FutureWarning: Support for multi-dimensional indexing (e.g. `obj[:, None]`) is deprecated and will be removed in a future version.  Convert to a numpy array before indexing instead.\n",
      "  ndim = x[:, None].ndim\n",
      "/Users/GA20232204/opt/anaconda3/lib/python3.7/site-packages/matplotlib/axes/_base.py:276: FutureWarning: Support for multi-dimensional indexing (e.g. `obj[:, None]`) is deprecated and will be removed in a future version.  Convert to a numpy array before indexing instead.\n",
      "  x = x[:, np.newaxis]\n",
      "/Users/GA20232204/opt/anaconda3/lib/python3.7/site-packages/matplotlib/axes/_base.py:278: FutureWarning: Support for multi-dimensional indexing (e.g. `obj[:, None]`) is deprecated and will be removed in a future version.  Convert to a numpy array before indexing instead.\n",
      "  y = y[:, np.newaxis]\n"
     ]
    },
    {
     "data": {
      "text/plain": [
       "<matplotlib.axes._subplots.AxesSubplot at 0x7fdf90740610>"
      ]
     },
     "execution_count": 35,
     "metadata": {},
     "output_type": "execute_result"
    },
    {
     "data": {
      "image/png": "[encoded data removed]",
      "text/plain": [
       "<Figure size 432x288 with 1 Axes>"
      ]
     },
     "metadata": {
      "needs_background": "light"
     },
     "output_type": "display_data"
    }
   ],
   "source": [
    "#Normal Distribution/Symmetric - displot (distribution plot)\n",
    "import seaborn as sns\n",
    "sns.distplot(df['weight_kg'],hist=True,kde=True)"
   ]
  },
  {
   "cell_type": "code",
   "execution_count": 38,
   "id": "6aa5d192",
   "metadata": {},
   "outputs": [
    {
     "data": {
      "text/plain": [
       "<matplotlib.axes._subplots.AxesSubplot at 0x7fdf9079f510>"
      ]
     },
     "execution_count": 38,
     "metadata": {},
     "output_type": "execute_result"
    },
    {
     "data": {
      "image/png": "[encoded data removed]",
      "text/plain": [
       "<Figure size 1800x720 with 1 Axes>"
      ]
     },
     "metadata": {
      "needs_background": "light"
     },
     "output_type": "display_data"
    }
   ],
   "source": [
    "#Density of all features\n",
    "df.plot.density(figsize = (25, 10),linewidth = 3)"
   ]
  },
  {
   "cell_type": "code",
   "execution_count": 39,
   "id": "60f9fba8",
   "metadata": {},
   "outputs": [
    {
     "data": {
      "text/plain": [
       "<seaborn.axisgrid.FacetGrid at 0x7fdf920de3d0>"
      ]
     },
     "execution_count": 39,
     "metadata": {},
     "output_type": "execute_result"
    },
    {
     "data": {
      "image/png": "[encoded data removed]",
      "text/plain": [
       "<Figure size 403.75x360 with 1 Axes>"
      ]
     },
     "metadata": {
      "needs_background": "light"
     },
     "output_type": "display_data"
    }
   ],
   "source": [
    "sns.displot(df, x=\"weight_kg\", hue=\"class\", kind=\"kde\", multiple=\"stack\")\n",
    "# class wise distribution"
   ]
  },
  {
   "cell_type": "code",
   "execution_count": 40,
   "id": "695e6f09",
   "metadata": {},
   "outputs": [
    {
     "data": {
      "text/plain": [
       "<seaborn.axisgrid.FacetGrid at 0x7fdf924746d0>"
      ]
     },
     "execution_count": 40,
     "metadata": {},
     "output_type": "execute_result"
    },
    {
     "data": {
      "image/png": "[encoded data removed]",
      "text/plain": [
       "<Figure size 404.625x360 with 1 Axes>"
      ]
     },
     "metadata": {
      "needs_background": "light"
     },
     "output_type": "display_data"
    }
   ],
   "source": [
    "sns.displot(df, x=\"weight_kg\", y=\"height_cm\", hue=\"gender\", kind=\"kde\")\n"
   ]
  },
  {
   "cell_type": "code",
   "execution_count": 41,
   "id": "62c55a30",
   "metadata": {},
   "outputs": [
    {
     "data": {
      "text/plain": [
       "age                        -1.017671\n",
       "height_cm                  -0.433053\n",
       "weight_kg                   0.171606\n",
       "body fat_%                  0.128712\n",
       "diastolic                   0.363525\n",
       "systolic                    0.380285\n",
       "gripForce                  -0.822200\n",
       "sit and bend forward_cm    35.220856\n",
       "sit-ups counts             -0.156326\n",
       "broad jump_cm               0.002397\n",
       "dtype: float64"
      ]
     },
     "execution_count": 41,
     "metadata": {},
     "output_type": "execute_result"
    }
   ],
   "source": [
    "# Kurtosis is the measure of describing the distribution of data. -  vertically\n",
    "# This data is distributed in different ways. They are:\n",
    "# Platykurtic\n",
    "# Mesokurtic\n",
    "# Leptokurtic\n",
    "df.kurt()"
   ]
  },
  {
   "cell_type": "code",
   "execution_count": null,
   "id": "74a48699",
   "metadata": {},
   "outputs": [],
   "source": [
    "# Inter Quartile Range(IQR)¶\n",
    "# The interquartile range tells you the spread of the middle half of your distribution.\n",
    "# Quartiles segment any distribution that’s ordered from low to high into four equal parts. \n",
    "# The interquartile range (IQR) contains the second and third quartiles, or the middle half of your data set.\n"
   ]
  },
  {
   "cell_type": "code",
   "execution_count": 42,
   "id": "e8d66656",
   "metadata": {},
   "outputs": [
    {
     "name": "stdout",
     "output_type": "stream",
     "text": [
      "IQR of age : 23\n",
      "IQR of height_cm : 12\n",
      "IQR of weight_kg : 17\n",
      "IQR of body fat_% : 10\n",
      "IQR of diastolic : 15\n",
      "IQR of systolic : 21\n",
      "IQR of gripForce : 17\n",
      "IQR of sit and bend forward_cm : 9\n",
      "IQR of sit-ups counts : 20\n",
      "IQR of broad jump_cm : 59\n"
     ]
    }
   ],
   "source": [
    "for col in numeric_data.columns:\n",
    "    Q1 = df[col].quantile(.25)\n",
    "    Q3 = df[col].quantile(.75)\n",
    "    IQR = Q3 - Q1\n",
    "    print('IQR of %s : %d' %(col,IQR))   "
   ]
  },
  {
   "cell_type": "code",
   "execution_count": 44,
   "id": "cc8f3418",
   "metadata": {},
   "outputs": [
    {
     "data": {
      "text/plain": [
       "(21.0, 64.0)"
      ]
     },
     "execution_count": 44,
     "metadata": {},
     "output_type": "execute_result"
    }
   ],
   "source": [
    "df[\"age\"].min(), df[\"age\"].max()"
   ]
  },
  {
   "cell_type": "code",
   "execution_count": 45,
   "id": "8680f121",
   "metadata": {},
   "outputs": [
    {
     "data": {
      "text/plain": [
       "0.1    52.2\n",
       "0.2    56.1\n",
       "0.4    64.0\n",
       "0.5    67.4\n",
       "Name: weight_kg, dtype: float64"
      ]
     },
     "execution_count": 45,
     "metadata": {},
     "output_type": "execute_result"
    }
   ],
   "source": [
    "#We can also find different percentiles of particular column\n",
    "df['weight_kg'].quantile([0.1,0.2,0.4,0.5])"
   ]
  },
  {
   "cell_type": "code",
   "execution_count": 46,
   "id": "ca32a04e",
   "metadata": {},
   "outputs": [
    {
     "name": "stdout",
     "output_type": "stream",
     "text": [
      "<class 'pandas.core.frame.DataFrame'>\n",
      "RangeIndex: 13393 entries, 0 to 13392\n",
      "Data columns (total 10 columns):\n",
      " #   Column                   Non-Null Count  Dtype  \n",
      "---  ------                   --------------  -----  \n",
      " 0   age                      13393 non-null  float64\n",
      " 1   height_cm                13393 non-null  float64\n",
      " 2   weight_kg                13393 non-null  float64\n",
      " 3   body fat_%               13393 non-null  float64\n",
      " 4   diastolic                13393 non-null  float64\n",
      " 5   systolic                 13393 non-null  float64\n",
      " 6   gripForce                13393 non-null  float64\n",
      " 7   sit and bend forward_cm  13393 non-null  float64\n",
      " 8   sit-ups counts           13393 non-null  float64\n",
      " 9   broad jump_cm            13393 non-null  float64\n",
      "dtypes: float64(10)\n",
      "memory usage: 1.0 MB\n"
     ]
    }
   ],
   "source": [
    "numeric_data.info()"
   ]
  },
  {
   "cell_type": "code",
   "execution_count": 47,
   "id": "e1b230aa",
   "metadata": {},
   "outputs": [
    {
     "name": "stdout",
     "output_type": "stream",
     "text": [
      "range of age : 43\n",
      "range of height_cm : 68\n",
      "range of weight_kg : 111\n",
      "range of body fat_% : 75\n",
      "range of diastolic : 156\n",
      "range of systolic : 201\n",
      "range of gripForce : 70\n",
      "range of sit and bend forward_cm : 238\n",
      "range of sit-ups counts : 80\n",
      "range of broad jump_cm : 303\n"
     ]
    }
   ],
   "source": [
    "# Range\n",
    "for col in numeric_data.columns:\n",
    "    range = df[col].max() - df[col].min()\n",
    "    print('range of %s : %d'%(col,range))"
   ]
  },
  {
   "cell_type": "code",
   "execution_count": 49,
   "id": "c7f9a85d",
   "metadata": {},
   "outputs": [
    {
     "data": {
      "text/plain": [
       "age                        11.844362\n",
       "height_cm                   6.919084\n",
       "weight_kg                   9.680199\n",
       "body fat_%                  5.833442\n",
       "diastolic                   8.651310\n",
       "systolic                   12.026424\n",
       "gripForce                   9.068306\n",
       "sit and bend forward_cm     6.268510\n",
       "sit-ups counts             11.571289\n",
       "broad jump_cm              32.726099\n",
       "dtype: float64"
      ]
     },
     "execution_count": 49,
     "metadata": {},
     "output_type": "execute_result"
    }
   ],
   "source": [
    "# Mean Absolute Deviation\n",
    "# The mean absolute deviation of a dataset is the average distance between each data point and the mean.\n",
    "# It gives us an idea about the variability in a dataset.\n",
    "df.mad()\n",
    "# As we can see, 'broad jump_cm' feature has the highest variability in our data.\n"
   ]
  },
  {
   "cell_type": "code",
   "execution_count": 51,
   "id": "bb251ef5",
   "metadata": {},
   "outputs": [
    {
     "data": {
      "text/html": [
       "<div>\n",
       "<style scoped>\n",
       "    .dataframe tbody tr th:only-of-type {\n",
       "        vertical-align: middle;\n",
       "    }\n",
       "\n",
       "    .dataframe tbody tr th {\n",
       "        vertical-align: top;\n",
       "    }\n",
       "\n",
       "    .dataframe thead th {\n",
       "        text-align: right;\n",
       "    }\n",
       "</style>\n",
       "<table border=\"1\" class=\"dataframe\">\n",
       "  <thead>\n",
       "    <tr style=\"text-align: right;\">\n",
       "      <th></th>\n",
       "      <th>age</th>\n",
       "      <th>gender</th>\n",
       "      <th>height_cm</th>\n",
       "      <th>weight_kg</th>\n",
       "      <th>body fat_%</th>\n",
       "      <th>diastolic</th>\n",
       "      <th>systolic</th>\n",
       "      <th>gripForce</th>\n",
       "      <th>sit and bend forward_cm</th>\n",
       "      <th>sit-ups counts</th>\n",
       "      <th>broad jump_cm</th>\n",
       "      <th>class</th>\n",
       "    </tr>\n",
       "  </thead>\n",
       "  <tbody>\n",
       "    <tr>\n",
       "      <th>13326</th>\n",
       "      <td>43.0</td>\n",
       "      <td>F</td>\n",
       "      <td>161.5</td>\n",
       "      <td>61.20</td>\n",
       "      <td>31.0</td>\n",
       "      <td>80.0</td>\n",
       "      <td>109.0</td>\n",
       "      <td>19.0</td>\n",
       "      <td>10.4</td>\n",
       "      <td>15.0</td>\n",
       "      <td>128.0</td>\n",
       "      <td>D</td>\n",
       "    </tr>\n",
       "    <tr>\n",
       "      <th>6455</th>\n",
       "      <td>37.0</td>\n",
       "      <td>M</td>\n",
       "      <td>170.7</td>\n",
       "      <td>85.80</td>\n",
       "      <td>31.9</td>\n",
       "      <td>78.0</td>\n",
       "      <td>141.0</td>\n",
       "      <td>44.4</td>\n",
       "      <td>5.6</td>\n",
       "      <td>42.0</td>\n",
       "      <td>224.0</td>\n",
       "      <td>D</td>\n",
       "    </tr>\n",
       "    <tr>\n",
       "      <th>7285</th>\n",
       "      <td>29.0</td>\n",
       "      <td>F</td>\n",
       "      <td>157.2</td>\n",
       "      <td>47.90</td>\n",
       "      <td>22.7</td>\n",
       "      <td>66.0</td>\n",
       "      <td>113.0</td>\n",
       "      <td>28.6</td>\n",
       "      <td>19.5</td>\n",
       "      <td>40.0</td>\n",
       "      <td>157.0</td>\n",
       "      <td>A</td>\n",
       "    </tr>\n",
       "    <tr>\n",
       "      <th>11983</th>\n",
       "      <td>28.0</td>\n",
       "      <td>M</td>\n",
       "      <td>171.7</td>\n",
       "      <td>65.98</td>\n",
       "      <td>15.2</td>\n",
       "      <td>93.0</td>\n",
       "      <td>147.0</td>\n",
       "      <td>37.3</td>\n",
       "      <td>5.5</td>\n",
       "      <td>46.0</td>\n",
       "      <td>228.0</td>\n",
       "      <td>C</td>\n",
       "    </tr>\n",
       "    <tr>\n",
       "      <th>11548</th>\n",
       "      <td>41.0</td>\n",
       "      <td>M</td>\n",
       "      <td>167.9</td>\n",
       "      <td>71.80</td>\n",
       "      <td>13.1</td>\n",
       "      <td>65.0</td>\n",
       "      <td>113.0</td>\n",
       "      <td>51.7</td>\n",
       "      <td>13.4</td>\n",
       "      <td>47.0</td>\n",
       "      <td>225.0</td>\n",
       "      <td>B</td>\n",
       "    </tr>\n",
       "    <tr>\n",
       "      <th>10416</th>\n",
       "      <td>56.0</td>\n",
       "      <td>M</td>\n",
       "      <td>162.0</td>\n",
       "      <td>73.60</td>\n",
       "      <td>30.5</td>\n",
       "      <td>76.0</td>\n",
       "      <td>134.0</td>\n",
       "      <td>38.8</td>\n",
       "      <td>15.6</td>\n",
       "      <td>21.0</td>\n",
       "      <td>176.0</td>\n",
       "      <td>D</td>\n",
       "    </tr>\n",
       "    <tr>\n",
       "      <th>4225</th>\n",
       "      <td>23.0</td>\n",
       "      <td>M</td>\n",
       "      <td>179.1</td>\n",
       "      <td>68.40</td>\n",
       "      <td>18.9</td>\n",
       "      <td>98.0</td>\n",
       "      <td>139.0</td>\n",
       "      <td>42.9</td>\n",
       "      <td>7.1</td>\n",
       "      <td>46.0</td>\n",
       "      <td>217.0</td>\n",
       "      <td>C</td>\n",
       "    </tr>\n",
       "    <tr>\n",
       "      <th>13059</th>\n",
       "      <td>40.0</td>\n",
       "      <td>M</td>\n",
       "      <td>174.8</td>\n",
       "      <td>79.10</td>\n",
       "      <td>18.2</td>\n",
       "      <td>72.0</td>\n",
       "      <td>148.0</td>\n",
       "      <td>47.2</td>\n",
       "      <td>19.2</td>\n",
       "      <td>50.0</td>\n",
       "      <td>239.0</td>\n",
       "      <td>B</td>\n",
       "    </tr>\n",
       "  </tbody>\n",
       "</table>\n",
       "</div>"
      ],
      "text/plain": [
       "        age gender  height_cm  weight_kg  body fat_%  diastolic  systolic  \\\n",
       "13326  43.0      F      161.5      61.20        31.0       80.0     109.0   \n",
       "6455   37.0      M      170.7      85.80        31.9       78.0     141.0   \n",
       "7285   29.0      F      157.2      47.90        22.7       66.0     113.0   \n",
       "11983  28.0      M      171.7      65.98        15.2       93.0     147.0   \n",
       "11548  41.0      M      167.9      71.80        13.1       65.0     113.0   \n",
       "10416  56.0      M      162.0      73.60        30.5       76.0     134.0   \n",
       "4225   23.0      M      179.1      68.40        18.9       98.0     139.0   \n",
       "13059  40.0      M      174.8      79.10        18.2       72.0     148.0   \n",
       "\n",
       "       gripForce  sit and bend forward_cm  sit-ups counts  broad jump_cm class  \n",
       "13326       19.0                     10.4            15.0          128.0     D  \n",
       "6455        44.4                      5.6            42.0          224.0     D  \n",
       "7285        28.6                     19.5            40.0          157.0     A  \n",
       "11983       37.3                      5.5            46.0          228.0     C  \n",
       "11548       51.7                     13.4            47.0          225.0     B  \n",
       "10416       38.8                     15.6            21.0          176.0     D  \n",
       "4225        42.9                      7.1            46.0          217.0     C  \n",
       "13059       47.2                     19.2            50.0          239.0     B  "
      ]
     },
     "execution_count": 51,
     "metadata": {},
     "output_type": "execute_result"
    }
   ],
   "source": [
    "# Inferential Statistics - offers methods to study experiments done on small samples of data and chalk out the \n",
    "# inferences to the entire population (entire domain).\n",
    "# 1. sampling\n",
    "#random sampling in python\n",
    "df.sample(8)"
   ]
  },
  {
   "cell_type": "code",
   "execution_count": 58,
   "id": "f93a3f13",
   "metadata": {},
   "outputs": [
    {
     "data": {
      "text/plain": [
       "<matplotlib.axes._subplots.AxesSubplot at 0x7fdf75061810>"
      ]
     },
     "execution_count": 58,
     "metadata": {},
     "output_type": "execute_result"
    },
    {
     "data": {
      "image/png": "[encoded data removed]",
      "text/plain": [
       "<Figure size 432x288 with 1 Axes>"
      ]
     },
     "metadata": {
      "needs_background": "light"
     },
     "output_type": "display_data"
    }
   ],
   "source": [
    "# confidence interval\n",
    "sns.regplot(data = df, x=\"weight_kg\", y=\"height_cm\", ci=95)"
   ]
  },
  {
   "cell_type": "code",
   "execution_count": 60,
   "id": "215a143f",
   "metadata": {},
   "outputs": [
    {
     "data": {
      "text/plain": [
       "(36.54434346585151, 37.00586933187864)"
      ]
     },
     "execution_count": 60,
     "metadata": {},
     "output_type": "execute_result"
    }
   ],
   "source": [
    "#In-built function to calculate Confidence interval\n",
    "import statsmodels.api as sm\n",
    "sm.stats.DescrStatsW(df['age']).zconfint_mean()"
   ]
  },
  {
   "cell_type": "code",
   "execution_count": 61,
   "id": "318fe458",
   "metadata": {},
   "outputs": [
    {
     "data": {
      "text/plain": [
       "array([[-0.71743212,  0.44387298,  0.65215002, ...,  0.37731734,\n",
       "         1.41696147,  0.67400862],\n",
       "       [-0.8642197 , -0.42246548, -0.97473438, ...,  0.12898358,\n",
       "         0.92663372,  0.97501314],\n",
       "       [-0.42385695,  1.31021144,  0.88312744, ..., -0.37950936,\n",
       "         0.64644644, -0.22900492],\n",
       "       ...,\n",
       "       [ 0.16329338,  1.02538783,  1.09234611, ...,  0.14080899,\n",
       "         0.36625915,  0.97501314],\n",
       "       [ 1.99813815, -2.66545136, -0.81572819, ..., -0.71062104,\n",
       "        -2.7858478 , -2.88787813],\n",
       "       [-0.20367558, -0.54114198, -0.11275345, ..., -0.9589548 ,\n",
       "         0.78654008, -0.25408863]])"
      ]
     },
     "execution_count": 61,
     "metadata": {},
     "output_type": "execute_result"
    }
   ],
   "source": [
    "import scipy.stats as stats\n",
    "z_scores = stats.zscore(numeric_data)\n",
    "z_scores"
   ]
  },
  {
   "cell_type": "code",
   "execution_count": 65,
   "id": "4c781a30",
   "metadata": {},
   "outputs": [],
   "source": [
    "import seaborn as sns\n",
    "import pandas as pd\n",
    "import numpy as np\n",
    "import scipy.stats as stats\n"
   ]
  },
  {
   "cell_type": "code",
   "execution_count": 66,
   "id": "c788534b",
   "metadata": {},
   "outputs": [
    {
     "data": {
      "text/html": [
       "<div>\n",
       "<style scoped>\n",
       "    .dataframe tbody tr th:only-of-type {\n",
       "        vertical-align: middle;\n",
       "    }\n",
       "\n",
       "    .dataframe tbody tr th {\n",
       "        vertical-align: top;\n",
       "    }\n",
       "\n",
       "    .dataframe thead th {\n",
       "        text-align: right;\n",
       "    }\n",
       "</style>\n",
       "<table border=\"1\" class=\"dataframe\">\n",
       "  <thead>\n",
       "    <tr style=\"text-align: right;\">\n",
       "      <th></th>\n",
       "      <th>total_bill</th>\n",
       "      <th>tip</th>\n",
       "      <th>sex</th>\n",
       "      <th>smoker</th>\n",
       "      <th>day</th>\n",
       "      <th>time</th>\n",
       "      <th>size</th>\n",
       "    </tr>\n",
       "  </thead>\n",
       "  <tbody>\n",
       "    <tr>\n",
       "      <th>0</th>\n",
       "      <td>16.99</td>\n",
       "      <td>1.01</td>\n",
       "      <td>Female</td>\n",
       "      <td>No</td>\n",
       "      <td>Sun</td>\n",
       "      <td>Dinner</td>\n",
       "      <td>2</td>\n",
       "    </tr>\n",
       "    <tr>\n",
       "      <th>1</th>\n",
       "      <td>10.34</td>\n",
       "      <td>1.66</td>\n",
       "      <td>Male</td>\n",
       "      <td>No</td>\n",
       "      <td>Sun</td>\n",
       "      <td>Dinner</td>\n",
       "      <td>3</td>\n",
       "    </tr>\n",
       "    <tr>\n",
       "      <th>2</th>\n",
       "      <td>21.01</td>\n",
       "      <td>3.50</td>\n",
       "      <td>Male</td>\n",
       "      <td>No</td>\n",
       "      <td>Sun</td>\n",
       "      <td>Dinner</td>\n",
       "      <td>3</td>\n",
       "    </tr>\n",
       "    <tr>\n",
       "      <th>3</th>\n",
       "      <td>23.68</td>\n",
       "      <td>3.31</td>\n",
       "      <td>Male</td>\n",
       "      <td>No</td>\n",
       "      <td>Sun</td>\n",
       "      <td>Dinner</td>\n",
       "      <td>2</td>\n",
       "    </tr>\n",
       "    <tr>\n",
       "      <th>4</th>\n",
       "      <td>24.59</td>\n",
       "      <td>3.61</td>\n",
       "      <td>Female</td>\n",
       "      <td>No</td>\n",
       "      <td>Sun</td>\n",
       "      <td>Dinner</td>\n",
       "      <td>4</td>\n",
       "    </tr>\n",
       "  </tbody>\n",
       "</table>\n",
       "</div>"
      ],
      "text/plain": [
       "   total_bill   tip     sex smoker  day    time  size\n",
       "0       16.99  1.01  Female     No  Sun  Dinner     2\n",
       "1       10.34  1.66    Male     No  Sun  Dinner     3\n",
       "2       21.01  3.50    Male     No  Sun  Dinner     3\n",
       "3       23.68  3.31    Male     No  Sun  Dinner     2\n",
       "4       24.59  3.61  Female     No  Sun  Dinner     4"
      ]
     },
     "execution_count": 66,
     "metadata": {},
     "output_type": "execute_result"
    }
   ],
   "source": [
    "dataset=sns.load_dataset('tips')\n",
    "dataset.head()\n"
   ]
  },
  {
   "cell_type": "code",
   "execution_count": 67,
   "id": "9320d53d",
   "metadata": {},
   "outputs": [
    {
     "name": "stdout",
     "output_type": "stream",
     "text": [
      "smoker  Yes  No\n",
      "sex            \n",
      "Male     60  97\n",
      "Female   33  54\n"
     ]
    }
   ],
   "source": [
    "dataset_table=pd.crosstab(dataset['sex'],dataset['smoker'])\n",
    "print(dataset_table)"
   ]
  },
  {
   "cell_type": "code",
   "execution_count": 71,
   "id": "065dbfae",
   "metadata": {},
   "outputs": [
    {
     "name": "stdout",
     "output_type": "stream",
     "text": [
      "Observed Values :-\n",
      " [[60 97]\n",
      " [33 54]]\n"
     ]
    }
   ],
   "source": [
    "#Observed Values\n",
    "Observed_Values = dataset_table.values \n",
    "print(\"Observed Values :-\\n\",Observed_Values)"
   ]
  },
  {
   "cell_type": "code",
   "execution_count": 73,
   "id": "d7ae6f8c",
   "metadata": {},
   "outputs": [
    {
     "data": {
      "text/plain": [
       "(0.008763290531773594,\n",
       " 0.925417020494423,\n",
       " 1,\n",
       " array([[59.84016393, 97.15983607],\n",
       "        [33.15983607, 53.84016393]]))"
      ]
     },
     "execution_count": 73,
     "metadata": {},
     "output_type": "execute_result"
    }
   ],
   "source": [
    "val=stats.chi2_contingency(dataset_table)\n",
    "val"
   ]
  },
  {
   "cell_type": "code",
   "execution_count": 74,
   "id": "73cd41a2",
   "metadata": {},
   "outputs": [
    {
     "data": {
      "text/plain": [
       "array([[59.84016393, 97.15983607],\n",
       "       [33.15983607, 53.84016393]])"
      ]
     },
     "execution_count": 74,
     "metadata": {},
     "output_type": "execute_result"
    }
   ],
   "source": [
    "Expected_Values=val[3]\n",
    "Expected_Values"
   ]
  },
  {
   "cell_type": "code",
   "execution_count": 75,
   "id": "34da09f8",
   "metadata": {},
   "outputs": [
    {
     "name": "stdout",
     "output_type": "stream",
     "text": [
      "Degree of Freedom:- 1\n"
     ]
    }
   ],
   "source": [
    "no_of_rows=len(dataset_table.iloc[0:2,0])\n",
    "no_of_columns=len(dataset_table.iloc[0,0:2])\n",
    "ddof=(no_of_rows-1)*(no_of_columns-1)\n",
    "print(\"Degree of Freedom:-\",ddof)\n",
    "alpha = 0.05"
   ]
  },
  {
   "cell_type": "code",
   "execution_count": 77,
   "id": "d8615201",
   "metadata": {},
   "outputs": [
    {
     "data": {
      "text/plain": [
       "0.001934818536627623"
      ]
     },
     "execution_count": 77,
     "metadata": {},
     "output_type": "execute_result"
    }
   ],
   "source": [
    "from scipy.stats import chi2\n",
    "chi_square=sum([(o-e)**2./e for o,e in zip(Observed_Values,Expected_Values)])\n",
    "chi_square_statistic=chi_square[0]+chi_square[1]\n",
    "chi_square_statistic"
   ]
  },
  {
   "cell_type": "code",
   "execution_count": 79,
   "id": "5cbb8301",
   "metadata": {},
   "outputs": [
    {
     "name": "stdout",
     "output_type": "stream",
     "text": [
      "critical_value: 3.841458820694124\n"
     ]
    }
   ],
   "source": [
    "critical_value=chi2.ppf(q=1-alpha,df=ddof)\n",
    "print('critical_value:',critical_value)"
   ]
  },
  {
   "cell_type": "code",
   "execution_count": 78,
   "id": "962ae644",
   "metadata": {},
   "outputs": [
    {
     "name": "stdout",
     "output_type": "stream",
     "text": [
      "p-value: 0.964915107315732\n",
      "Significance level:  0.05\n",
      "Degree of Freedom:  1\n",
      "p-value: 0.964915107315732\n"
     ]
    }
   ],
   "source": [
    "#p-value\n",
    "p_value=1-chi2.cdf(x=chi_square_statistic,df=ddof)\n",
    "print('p-value:',p_value)\n",
    "print('Significance level: ',alpha)\n",
    "print('Degree of Freedom: ',ddof)\n",
    "print('p-value:',p_value)"
   ]
  },
  {
   "cell_type": "code",
   "execution_count": 80,
   "id": "d97d9ef2",
   "metadata": {},
   "outputs": [
    {
     "name": "stdout",
     "output_type": "stream",
     "text": [
      "Retain H0,There is no relationship between 2 categorical variables\n",
      "Retain H0,There is no relationship between 2 categorical variables\n"
     ]
    }
   ],
   "source": [
    "if chi_square_statistic>=critical_value:\n",
    "    print(\"Reject H0,There is a relationship between 2 categorical variables\")\n",
    "else:\n",
    "    print(\"Retain H0,There is no relationship between 2 categorical variables\")\n",
    "    \n",
    "if p_value<=alpha:\n",
    "    print(\"Reject H0,There is a relationship between 2 categorical variables\")\n",
    "else:\n",
    "    print(\"Retain H0,There is no relationship between 2 categorical variables\")\n",
    "     "
   ]
  },
  {
   "cell_type": "code",
   "execution_count": 81,
   "id": "f433e54e",
   "metadata": {},
   "outputs": [],
   "source": [
    "# one sample t test\n",
    "ages=[10,20,35,50,28,40,55,18,16,55,30,25,43,18,30,28,14,24,16,17,32,35,26,27,65,18,43,23,21,20,19,70]"
   ]
  },
  {
   "cell_type": "code",
   "execution_count": 82,
   "id": "85ad1802",
   "metadata": {},
   "outputs": [
    {
     "name": "stdout",
     "output_type": "stream",
     "text": [
      "30.34375\n"
     ]
    }
   ],
   "source": [
    "import numpy as np\n",
    "ages_mean=np.mean(ages)\n",
    "print(ages_mean)"
   ]
  },
  {
   "cell_type": "code",
   "execution_count": 83,
   "id": "deb5c138",
   "metadata": {},
   "outputs": [],
   "source": [
    "## Lets take sample\n",
    "sample_size=10\n",
    "age_sample=np.random.choice(ages,sample_size)"
   ]
  },
  {
   "cell_type": "code",
   "execution_count": 85,
   "id": "8cf9a906",
   "metadata": {},
   "outputs": [
    {
     "data": {
      "text/plain": [
       "0.26650131214269335"
      ]
     },
     "execution_count": 85,
     "metadata": {},
     "output_type": "execute_result"
    }
   ],
   "source": [
    "from scipy.stats import ttest_1samp\n",
    "ttest,p_value=ttest_1samp(age_sample,30) #30 is taken randomly\n",
    "p_value"
   ]
  },
  {
   "cell_type": "code",
   "execution_count": 86,
   "id": "0bf836e8",
   "metadata": {},
   "outputs": [
    {
     "name": "stdout",
     "output_type": "stream",
     "text": [
      "we are accepting null hypothesis\n"
     ]
    }
   ],
   "source": [
    "if p_value < 0.05:    # alpha value is 0.05 or 5%\n",
    "    print(\" we are rejecting null hypothesis\")\n",
    "else:\n",
    "    print(\"we are accepting null hypothesis\")"
   ]
  },
  {
   "cell_type": "code",
   "execution_count": 87,
   "id": "f13c051f",
   "metadata": {},
   "outputs": [
    {
     "data": {
      "text/plain": [
       "50.63333333333333"
      ]
     },
     "execution_count": 87,
     "metadata": {},
     "output_type": "execute_result"
    }
   ],
   "source": [
    "np.random.seed(12)\n",
    "ClassB_ages=stats.poisson.rvs(loc=18,mu=33,size=60)\n",
    "ClassB_ages.mean()"
   ]
  },
  {
   "cell_type": "code",
   "execution_count": null,
   "id": "c8e54e14",
   "metadata": {},
   "outputs": [],
   "source": []
  }
 ],
 "metadata": {
  "kernelspec": {
   "display_name": "Python 3",
   "language": "python",
   "name": "python3"
  },
  "language_info": {
   "codemirror_mode": {
    "name": "ipython",
    "version": 3
   },
   "file_extension": ".py",
   "mimetype": "text/x-python",
   "name": "python",
   "nbconvert_exporter": "python",
   "pygments_lexer": "ipython3",
   "version": "3.7.9"
  }
 },
 "nbformat": 4,
 "nbformat_minor": 5
}
